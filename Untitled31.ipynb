{
  "nbformat": 4,
  "nbformat_minor": 0,
  "metadata": {
    "colab": {
      "provenance": [],
      "authorship_tag": "ABX9TyODIjmFGFgHE4PH/A+Nbahw",
      "include_colab_link": true
    },
    "kernelspec": {
      "name": "python3",
      "display_name": "Python 3"
    },
    "language_info": {
      "name": "python"
    }
  },
  "cells": [
    {
      "cell_type": "markdown",
      "metadata": {
        "id": "view-in-github",
        "colab_type": "text"
      },
      "source": [
        "<a href=\"https://colab.research.google.com/github/namgisung/c.a_data/blob/master/Untitled31.ipynb\" target=\"_parent\"><img src=\"https://colab.research.google.com/assets/colab-badge.svg\" alt=\"Open In Colab\"/></a>"
      ]
    },
    {
      "cell_type": "code",
      "execution_count": null,
      "metadata": {
        "id": "SlNb3FkgMqvq"
      },
      "outputs": [],
      "source": []
    },
    {
      "cell_type": "code",
      "source": [
        "import matplotlib.pyplot as plt\n",
        "import numpy as np\n",
        "\n",
        "class poly1():\n",
        "    def __init__(self, coef):\n",
        "        self.coef = coef\n",
        "        self.degree = len(coef)\n",
        "\n",
        "    def print_poly1(self):\n",
        "        for i in range(self.degree):\n",
        "            if i == self.degree - 1:                        # 상수항인지 판별\n",
        "                if self.coef[i] != 0.0:\n",
        "                    if self.coef[i] >= 0:                   # 상수항의 부호 판별\n",
        "                        print(\" + \", end='')\n",
        "                    else:\n",
        "                        print(\" - \", end='')\n",
        "                    print(\"%0.2f\" % (abs(self.coef[i])))\n",
        "                else:                                       # 상수항이 0일 경우 0 출력하지 않고 줄바꿈\n",
        "                    print()\n",
        "            else:\n",
        "                if self.coef[i] != 0.0:\n",
        "                    if i == 0:\n",
        "                        print(\"%0.2f x^%d\" % (self.coef[i], self.degree - i - 1), end='')\n",
        "                    else:\n",
        "                        if self.coef[i] >= 0:\n",
        "                            print(\" + \", end='')\n",
        "                        else:\n",
        "                            print(\" - \", end='')\n",
        "                        print(\"%0.2f x^%d\" % (abs(self.coef[i]), self.degree - i - 1), end='')\n",
        "\n",
        "    def find_val(self, x):\n",
        "        temp_degree = self.degree\n",
        "        val = 0\n",
        "        for i in range(self.degree):\n",
        "            temp = 1\n",
        "            for j in range(temp_degree - 1):\n",
        "                temp *= x\n",
        "            if temp_degree == 1:\n",
        "                temp = self.coef[i]\n",
        "            else:\n",
        "                temp = temp * self.coef[i]\n",
        "            val += temp\n",
        "            temp_degree -= 1\n",
        "        return val\n",
        "\n",
        "def graph():\n",
        "    xposition = list(range(-20,20))\n",
        "    yposition = []\n",
        "\n",
        "    for i in range(-20,20):\n",
        "      yposition.append(find_val(i))\n",
        "\n",
        "      plt.plot(xposition, yposition, color='red', marker='o', alpha=0.5, linewidth=2)\n",
        "      plt.axhline(0.0, -20.0, 20.0, color='lightgray', linestyle='--', linewidth=2)\n",
        "      plt.axvline(0.0, -20.0, 20.0, color='lightgray', linestyle='--', linewidth=2)\n",
        "\n",
        "      plt.title(\"mohand's code block\")\n",
        "      plt.xlabel(\"x example\")\n",
        "      plt.ylabel(\"y example\")\n",
        "      plt.show()\n",
        "\n",
        "\n",
        "\n",
        "\n",
        "\n",
        "a = list(map(float, input(\"수식 입력 : \").split(' ')))\n",
        "while len(a) > 6:\n",
        "    a = list(map(float, input(\"최대 차수를 초과하였습니다. 다시 입력해주세요! : \").split(' ')))\n",
        "\n",
        "al = poly1(a)\n",
        "\n",
        "\n",
        "print('수식 ', end='')\n",
        "al.print_poly1()\n",
        "\n",
        "b=int(input(\"입력 값:\"))\n",
        "al.find_val(b)\n",
        "\n",
        "graph()"
      ],
      "metadata": {
        "colab": {
          "base_uri": "https://localhost:8080/",
          "height": 416
        },
        "id": "iLL0bouHcvmd",
        "outputId": "47213d1a-6112-4c09-b00a-14adf969574c"
      },
      "execution_count": 10,
      "outputs": [
        {
          "name": "stdout",
          "output_type": "stream",
          "text": [
            "수식 입력 : 10 10 10\n",
            "수식 10.00 x^2 + 10.00 x^1 + 10.00\n",
            "입력 값:3\n"
          ]
        },
        {
          "output_type": "error",
          "ename": "NameError",
          "evalue": "ignored",
          "traceback": [
            "\u001b[0;31m---------------------------------------------------------------------------\u001b[0m",
            "\u001b[0;31mNameError\u001b[0m                                 Traceback (most recent call last)",
            "\u001b[0;32m<ipython-input-10-3bcedd68decc>\u001b[0m in \u001b[0;36m<cell line: 79>\u001b[0;34m()\u001b[0m\n\u001b[1;32m     77\u001b[0m \u001b[0mal\u001b[0m\u001b[0;34m.\u001b[0m\u001b[0mfind_val\u001b[0m\u001b[0;34m(\u001b[0m\u001b[0mb\u001b[0m\u001b[0;34m)\u001b[0m\u001b[0;34m\u001b[0m\u001b[0;34m\u001b[0m\u001b[0m\n\u001b[1;32m     78\u001b[0m \u001b[0;34m\u001b[0m\u001b[0m\n\u001b[0;32m---> 79\u001b[0;31m \u001b[0mgraph\u001b[0m\u001b[0;34m(\u001b[0m\u001b[0;34m)\u001b[0m\u001b[0;34m\u001b[0m\u001b[0;34m\u001b[0m\u001b[0m\n\u001b[0m",
            "\u001b[0;32m<ipython-input-10-3bcedd68decc>\u001b[0m in \u001b[0;36mgraph\u001b[0;34m()\u001b[0m\n\u001b[1;32m     49\u001b[0m \u001b[0;34m\u001b[0m\u001b[0m\n\u001b[1;32m     50\u001b[0m     \u001b[0;32mfor\u001b[0m \u001b[0mi\u001b[0m \u001b[0;32min\u001b[0m \u001b[0mrange\u001b[0m\u001b[0;34m(\u001b[0m\u001b[0;34m-\u001b[0m\u001b[0;36m20\u001b[0m\u001b[0;34m,\u001b[0m\u001b[0;36m20\u001b[0m\u001b[0;34m)\u001b[0m\u001b[0;34m:\u001b[0m\u001b[0;34m\u001b[0m\u001b[0;34m\u001b[0m\u001b[0m\n\u001b[0;32m---> 51\u001b[0;31m       \u001b[0myposition\u001b[0m\u001b[0;34m.\u001b[0m\u001b[0mappend\u001b[0m\u001b[0;34m(\u001b[0m\u001b[0mfind_val\u001b[0m\u001b[0;34m(\u001b[0m\u001b[0mi\u001b[0m\u001b[0;34m)\u001b[0m\u001b[0;34m)\u001b[0m\u001b[0;34m\u001b[0m\u001b[0;34m\u001b[0m\u001b[0m\n\u001b[0m\u001b[1;32m     52\u001b[0m \u001b[0;34m\u001b[0m\u001b[0m\n\u001b[1;32m     53\u001b[0m       \u001b[0mplt\u001b[0m\u001b[0;34m.\u001b[0m\u001b[0mplot\u001b[0m\u001b[0;34m(\u001b[0m\u001b[0mxposition\u001b[0m\u001b[0;34m,\u001b[0m \u001b[0myposition\u001b[0m\u001b[0;34m,\u001b[0m \u001b[0mcolor\u001b[0m\u001b[0;34m=\u001b[0m\u001b[0;34m'red'\u001b[0m\u001b[0;34m,\u001b[0m \u001b[0mmarker\u001b[0m\u001b[0;34m=\u001b[0m\u001b[0;34m'o'\u001b[0m\u001b[0;34m,\u001b[0m \u001b[0malpha\u001b[0m\u001b[0;34m=\u001b[0m\u001b[0;36m0.5\u001b[0m\u001b[0;34m,\u001b[0m \u001b[0mlinewidth\u001b[0m\u001b[0;34m=\u001b[0m\u001b[0;36m2\u001b[0m\u001b[0;34m)\u001b[0m\u001b[0;34m\u001b[0m\u001b[0;34m\u001b[0m\u001b[0m\n",
            "\u001b[0;31mNameError\u001b[0m: name 'find_val' is not defined"
          ]
        }
      ]
    },
    {
      "cell_type": "code",
      "source": [],
      "metadata": {
        "id": "If7dqZP-eZni"
      },
      "execution_count": null,
      "outputs": []
    }
  ]
}